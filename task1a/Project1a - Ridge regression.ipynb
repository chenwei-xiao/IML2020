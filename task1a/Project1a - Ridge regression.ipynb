{
 "cells": [
  {
   "cell_type": "markdown",
   "metadata": {},
   "source": [
    "# Project1a: Ridge regression\n",
    "**Author: Chenwei Xiao, Chim Lo Yui**\n",
    "\n",
    "**Date: 2020/3**"
   ]
  },
  {
   "cell_type": "markdown",
   "metadata": {},
   "source": [
    "## Description of the task:\n",
    "* Ridge regression\n",
    "* Cross validation to choose appropriate parameter: lambda"
   ]
  },
  {
   "cell_type": "code",
   "execution_count": 51,
   "metadata": {},
   "outputs": [],
   "source": [
    "# Python Notebook Commands\n",
    "%matplotlib inline\n",
    "# %reload_ext autoreload\n",
    "# %load_ext autoreload\n",
    "# %autoreload 2\n",
    "\n",
    "# General math and plotting modules.\n",
    "import numpy as np\n",
    "import pandas as pd\n",
    "from math import sqrt\n",
    "\n",
    "# Machine Learning library. \n",
    "import sklearn\n",
    "from sklearn.linear_model import Ridge\n",
    "from sklearn.utils import shuffle\n",
    "from sklearn.model_selection import cross_val_score\n",
    "from sklearn.metrics import mean_squared_error, r2_score"
   ]
  },
  {
   "cell_type": "code",
   "execution_count": 52,
   "metadata": {},
   "outputs": [],
   "source": [
    "# Load data\n",
    "df_train=pd.read_csv('train.csv')"
   ]
  },
  {
   "cell_type": "code",
   "execution_count": 53,
   "metadata": {},
   "outputs": [
    {
     "name": "stdout",
     "output_type": "stream",
     "text": [
      "(506, 15)\n"
     ]
    },
    {
     "data": {
      "text/html": [
       "<div>\n",
       "<style scoped>\n",
       "    .dataframe tbody tr th:only-of-type {\n",
       "        vertical-align: middle;\n",
       "    }\n",
       "\n",
       "    .dataframe tbody tr th {\n",
       "        vertical-align: top;\n",
       "    }\n",
       "\n",
       "    .dataframe thead th {\n",
       "        text-align: right;\n",
       "    }\n",
       "</style>\n",
       "<table border=\"1\" class=\"dataframe\">\n",
       "  <thead>\n",
       "    <tr style=\"text-align: right;\">\n",
       "      <th></th>\n",
       "      <th>Id</th>\n",
       "      <th>y</th>\n",
       "      <th>x1</th>\n",
       "      <th>x2</th>\n",
       "      <th>x3</th>\n",
       "      <th>x4</th>\n",
       "      <th>x5</th>\n",
       "      <th>x6</th>\n",
       "      <th>x7</th>\n",
       "      <th>x8</th>\n",
       "      <th>x9</th>\n",
       "      <th>x10</th>\n",
       "      <th>x11</th>\n",
       "      <th>x12</th>\n",
       "      <th>x13</th>\n",
       "    </tr>\n",
       "  </thead>\n",
       "  <tbody>\n",
       "    <tr>\n",
       "      <th>0</th>\n",
       "      <td>0</td>\n",
       "      <td>22.6</td>\n",
       "      <td>0.06724</td>\n",
       "      <td>0.0</td>\n",
       "      <td>3.24</td>\n",
       "      <td>0.0</td>\n",
       "      <td>0.460</td>\n",
       "      <td>6.333</td>\n",
       "      <td>17.2</td>\n",
       "      <td>5.2146</td>\n",
       "      <td>4.0</td>\n",
       "      <td>430.0</td>\n",
       "      <td>16.9</td>\n",
       "      <td>375.21</td>\n",
       "      <td>7.34</td>\n",
       "    </tr>\n",
       "    <tr>\n",
       "      <th>1</th>\n",
       "      <td>1</td>\n",
       "      <td>50.0</td>\n",
       "      <td>9.23230</td>\n",
       "      <td>0.0</td>\n",
       "      <td>18.10</td>\n",
       "      <td>0.0</td>\n",
       "      <td>0.631</td>\n",
       "      <td>6.216</td>\n",
       "      <td>100.0</td>\n",
       "      <td>1.1691</td>\n",
       "      <td>24.0</td>\n",
       "      <td>666.0</td>\n",
       "      <td>20.2</td>\n",
       "      <td>366.15</td>\n",
       "      <td>9.53</td>\n",
       "    </tr>\n",
       "    <tr>\n",
       "      <th>2</th>\n",
       "      <td>2</td>\n",
       "      <td>23.0</td>\n",
       "      <td>0.11425</td>\n",
       "      <td>0.0</td>\n",
       "      <td>13.89</td>\n",
       "      <td>1.0</td>\n",
       "      <td>0.550</td>\n",
       "      <td>6.373</td>\n",
       "      <td>92.4</td>\n",
       "      <td>3.3633</td>\n",
       "      <td>5.0</td>\n",
       "      <td>276.0</td>\n",
       "      <td>16.4</td>\n",
       "      <td>393.74</td>\n",
       "      <td>10.50</td>\n",
       "    </tr>\n",
       "    <tr>\n",
       "      <th>3</th>\n",
       "      <td>3</td>\n",
       "      <td>8.3</td>\n",
       "      <td>24.80170</td>\n",
       "      <td>0.0</td>\n",
       "      <td>18.10</td>\n",
       "      <td>0.0</td>\n",
       "      <td>0.693</td>\n",
       "      <td>5.349</td>\n",
       "      <td>96.0</td>\n",
       "      <td>1.7028</td>\n",
       "      <td>24.0</td>\n",
       "      <td>666.0</td>\n",
       "      <td>20.2</td>\n",
       "      <td>396.90</td>\n",
       "      <td>19.77</td>\n",
       "    </tr>\n",
       "    <tr>\n",
       "      <th>4</th>\n",
       "      <td>4</td>\n",
       "      <td>21.2</td>\n",
       "      <td>0.05646</td>\n",
       "      <td>0.0</td>\n",
       "      <td>12.83</td>\n",
       "      <td>0.0</td>\n",
       "      <td>0.437</td>\n",
       "      <td>6.232</td>\n",
       "      <td>53.7</td>\n",
       "      <td>5.0141</td>\n",
       "      <td>5.0</td>\n",
       "      <td>398.0</td>\n",
       "      <td>18.7</td>\n",
       "      <td>386.40</td>\n",
       "      <td>12.34</td>\n",
       "    </tr>\n",
       "  </tbody>\n",
       "</table>\n",
       "</div>"
      ],
      "text/plain": [
       "   Id     y        x1   x2     x3   x4     x5     x6     x7      x8    x9  \\\n",
       "0   0  22.6   0.06724  0.0   3.24  0.0  0.460  6.333   17.2  5.2146   4.0   \n",
       "1   1  50.0   9.23230  0.0  18.10  0.0  0.631  6.216  100.0  1.1691  24.0   \n",
       "2   2  23.0   0.11425  0.0  13.89  1.0  0.550  6.373   92.4  3.3633   5.0   \n",
       "3   3   8.3  24.80170  0.0  18.10  0.0  0.693  5.349   96.0  1.7028  24.0   \n",
       "4   4  21.2   0.05646  0.0  12.83  0.0  0.437  6.232   53.7  5.0141   5.0   \n",
       "\n",
       "     x10   x11     x12    x13  \n",
       "0  430.0  16.9  375.21   7.34  \n",
       "1  666.0  20.2  366.15   9.53  \n",
       "2  276.0  16.4  393.74  10.50  \n",
       "3  666.0  20.2  396.90  19.77  \n",
       "4  398.0  18.7  386.40  12.34  "
      ]
     },
     "execution_count": 53,
     "metadata": {},
     "output_type": "execute_result"
    }
   ],
   "source": [
    "print(df_train.shape)\n",
    "df_train.head()"
   ]
  },
  {
   "cell_type": "code",
   "execution_count": 50,
   "metadata": {},
   "outputs": [
    {
     "data": {
      "text/html": [
       "<div>\n",
       "<style scoped>\n",
       "    .dataframe tbody tr th:only-of-type {\n",
       "        vertical-align: middle;\n",
       "    }\n",
       "\n",
       "    .dataframe tbody tr th {\n",
       "        vertical-align: top;\n",
       "    }\n",
       "\n",
       "    .dataframe thead th {\n",
       "        text-align: right;\n",
       "    }\n",
       "</style>\n",
       "<table border=\"1\" class=\"dataframe\">\n",
       "  <thead>\n",
       "    <tr style=\"text-align: right;\">\n",
       "      <th></th>\n",
       "      <th>Id</th>\n",
       "      <th>y</th>\n",
       "      <th>x1</th>\n",
       "      <th>x2</th>\n",
       "      <th>x3</th>\n",
       "      <th>x4</th>\n",
       "      <th>x5</th>\n",
       "      <th>x6</th>\n",
       "      <th>x7</th>\n",
       "      <th>x8</th>\n",
       "      <th>x9</th>\n",
       "      <th>x10</th>\n",
       "      <th>x11</th>\n",
       "      <th>x12</th>\n",
       "      <th>x13</th>\n",
       "    </tr>\n",
       "  </thead>\n",
       "  <tbody>\n",
       "    <tr>\n",
       "      <th>173</th>\n",
       "      <td>173</td>\n",
       "      <td>27.0</td>\n",
       "      <td>1.27346</td>\n",
       "      <td>0.0</td>\n",
       "      <td>19.58</td>\n",
       "      <td>1.0</td>\n",
       "      <td>0.605</td>\n",
       "      <td>6.250</td>\n",
       "      <td>92.6</td>\n",
       "      <td>1.7984</td>\n",
       "      <td>5.0</td>\n",
       "      <td>403.0</td>\n",
       "      <td>14.7</td>\n",
       "      <td>338.92</td>\n",
       "      <td>5.50</td>\n",
       "    </tr>\n",
       "    <tr>\n",
       "      <th>274</th>\n",
       "      <td>274</td>\n",
       "      <td>13.1</td>\n",
       "      <td>2.44668</td>\n",
       "      <td>0.0</td>\n",
       "      <td>19.58</td>\n",
       "      <td>0.0</td>\n",
       "      <td>0.871</td>\n",
       "      <td>5.272</td>\n",
       "      <td>94.0</td>\n",
       "      <td>1.7364</td>\n",
       "      <td>5.0</td>\n",
       "      <td>403.0</td>\n",
       "      <td>14.7</td>\n",
       "      <td>88.63</td>\n",
       "      <td>16.14</td>\n",
       "    </tr>\n",
       "    <tr>\n",
       "      <th>491</th>\n",
       "      <td>491</td>\n",
       "      <td>24.2</td>\n",
       "      <td>0.08826</td>\n",
       "      <td>0.0</td>\n",
       "      <td>10.81</td>\n",
       "      <td>0.0</td>\n",
       "      <td>0.413</td>\n",
       "      <td>6.417</td>\n",
       "      <td>6.6</td>\n",
       "      <td>5.2873</td>\n",
       "      <td>4.0</td>\n",
       "      <td>305.0</td>\n",
       "      <td>19.2</td>\n",
       "      <td>383.73</td>\n",
       "      <td>6.72</td>\n",
       "    </tr>\n",
       "    <tr>\n",
       "      <th>72</th>\n",
       "      <td>72</td>\n",
       "      <td>23.5</td>\n",
       "      <td>0.03584</td>\n",
       "      <td>80.0</td>\n",
       "      <td>3.37</td>\n",
       "      <td>0.0</td>\n",
       "      <td>0.398</td>\n",
       "      <td>6.290</td>\n",
       "      <td>17.8</td>\n",
       "      <td>6.6115</td>\n",
       "      <td>4.0</td>\n",
       "      <td>337.0</td>\n",
       "      <td>16.1</td>\n",
       "      <td>396.90</td>\n",
       "      <td>4.67</td>\n",
       "    </tr>\n",
       "    <tr>\n",
       "      <th>452</th>\n",
       "      <td>452</td>\n",
       "      <td>14.5</td>\n",
       "      <td>1.35472</td>\n",
       "      <td>0.0</td>\n",
       "      <td>8.14</td>\n",
       "      <td>0.0</td>\n",
       "      <td>0.538</td>\n",
       "      <td>6.072</td>\n",
       "      <td>100.0</td>\n",
       "      <td>4.1750</td>\n",
       "      <td>4.0</td>\n",
       "      <td>307.0</td>\n",
       "      <td>21.0</td>\n",
       "      <td>376.73</td>\n",
       "      <td>13.04</td>\n",
       "    </tr>\n",
       "  </tbody>\n",
       "</table>\n",
       "</div>"
      ],
      "text/plain": [
       "      Id     y       x1    x2     x3   x4     x5     x6     x7      x8   x9  \\\n",
       "173  173  27.0  1.27346   0.0  19.58  1.0  0.605  6.250   92.6  1.7984  5.0   \n",
       "274  274  13.1  2.44668   0.0  19.58  0.0  0.871  5.272   94.0  1.7364  5.0   \n",
       "491  491  24.2  0.08826   0.0  10.81  0.0  0.413  6.417    6.6  5.2873  4.0   \n",
       "72    72  23.5  0.03584  80.0   3.37  0.0  0.398  6.290   17.8  6.6115  4.0   \n",
       "452  452  14.5  1.35472   0.0   8.14  0.0  0.538  6.072  100.0  4.1750  4.0   \n",
       "\n",
       "       x10   x11     x12    x13  \n",
       "173  403.0  14.7  338.92   5.50  \n",
       "274  403.0  14.7   88.63  16.14  \n",
       "491  305.0  19.2  383.73   6.72  \n",
       "72   337.0  16.1  396.90   4.67  \n",
       "452  307.0  21.0  376.73  13.04  "
      ]
     },
     "execution_count": 50,
     "metadata": {},
     "output_type": "execute_result"
    }
   ],
   "source": [
    "df_train = shuffle(df_train,random_state=42)\n",
    "df_train.head()"
   ]
  },
  {
   "cell_type": "markdown",
   "metadata": {},
   "source": [
    "x1-13 is predictors and y is outcome."
   ]
  },
  {
   "cell_type": "code",
   "execution_count": 54,
   "metadata": {},
   "outputs": [
    {
     "name": "stdout",
     "output_type": "stream",
     "text": [
      "[0.6945051  0.78972856 0.63475864 0.70471845 0.797733   0.66566086\n",
      " 0.65375212 0.69802744 0.65998675 0.77477462]\n",
      "[-18.13266474 -18.52696091 -25.96004402 -24.89530236 -21.71824188\n",
      " -29.75589832 -20.14587753 -32.49461613 -32.49291187 -14.06205363]\n",
      "[4.84013585 4.84057347 4.85820322 4.91132601 4.98837432]\n"
     ]
    }
   ],
   "source": [
    "# Shuffle the dataset\n",
    "df_train = shuffle(df_train,random_state=42)\n",
    "df_train.head()\n",
    "\n",
    "# Extract X,y and do ridge regression\n",
    "X = df_train.iloc[:,2:]\n",
    "y = df_train.iloc[:,1]\n",
    "ls_Lambda = np.array([0.01, 0.1, 1, 10, 100])\n",
    "\n",
    "ridgereg = Ridge(alpha=ls_Lambda[0])\n",
    "print(cross_val_score(ridgereg, X, y, cv=10, scoring='r2'))\n",
    "print(cross_val_score(ridgereg, X, y, cv=10, scoring='neg_mean_squared_error'))\n",
    "\n",
    "# Use cross validation and RMSE as critierion for choosing appropriate lambda\n",
    "ls_rmse = np.array([])\n",
    "for Lambda in ls_Lambda:\n",
    "    ridgereg = Ridge(alpha=Lambda)\n",
    "    rmse = (-cross_val_score(ridgereg, X, y, cv=10, scoring='neg_mean_squared_error'))**0.5\n",
    "    ls_rmse = np.append(ls_rmse,rmse.mean())\n",
    "\n",
    "print(ls_rmse)\n",
    "\n"
   ]
  },
  {
   "cell_type": "code",
   "execution_count": 57,
   "metadata": {},
   "outputs": [
    {
     "data": {
      "text/html": [
       "<div>\n",
       "<style scoped>\n",
       "    .dataframe tbody tr th:only-of-type {\n",
       "        vertical-align: middle;\n",
       "    }\n",
       "\n",
       "    .dataframe tbody tr th {\n",
       "        vertical-align: top;\n",
       "    }\n",
       "\n",
       "    .dataframe thead th {\n",
       "        text-align: right;\n",
       "    }\n",
       "</style>\n",
       "<table border=\"1\" class=\"dataframe\">\n",
       "  <thead>\n",
       "    <tr style=\"text-align: right;\">\n",
       "      <th></th>\n",
       "      <th>Lambda</th>\n",
       "      <th>RMSE</th>\n",
       "    </tr>\n",
       "  </thead>\n",
       "  <tbody>\n",
       "    <tr>\n",
       "      <th>0</th>\n",
       "      <td>0.01</td>\n",
       "      <td>4.840136</td>\n",
       "    </tr>\n",
       "    <tr>\n",
       "      <th>1</th>\n",
       "      <td>0.10</td>\n",
       "      <td>4.840573</td>\n",
       "    </tr>\n",
       "    <tr>\n",
       "      <th>2</th>\n",
       "      <td>1.00</td>\n",
       "      <td>4.858203</td>\n",
       "    </tr>\n",
       "    <tr>\n",
       "      <th>3</th>\n",
       "      <td>10.00</td>\n",
       "      <td>4.911326</td>\n",
       "    </tr>\n",
       "    <tr>\n",
       "      <th>4</th>\n",
       "      <td>100.00</td>\n",
       "      <td>4.988374</td>\n",
       "    </tr>\n",
       "  </tbody>\n",
       "</table>\n",
       "</div>"
      ],
      "text/plain": [
       "   Lambda      RMSE\n",
       "0    0.01  4.840136\n",
       "1    0.10  4.840573\n",
       "2    1.00  4.858203\n",
       "3   10.00  4.911326\n",
       "4  100.00  4.988374"
      ]
     },
     "execution_count": 57,
     "metadata": {},
     "output_type": "execute_result"
    }
   ],
   "source": [
    "df_rmse = pd.DataFrame({'Lambda':ls_Lambda, 'RMSE':ls_rmse})\n",
    "df_rmse"
   ]
  },
  {
   "cell_type": "code",
   "execution_count": 58,
   "metadata": {
    "scrolled": true
   },
   "outputs": [
    {
     "data": {
      "text/plain": [
       "<AxesSubplot:xlabel='Lambda'>"
      ]
     },
     "execution_count": 58,
     "metadata": {},
     "output_type": "execute_result"
    },
    {
     "data": {
      "image/png": "[encoded data removed]",
      "text/plain": [
       "<Figure size 432x288 with 1 Axes>"
      ]
     },
     "metadata": {
      "needs_background": "light"
     },
     "output_type": "display_data"
    }
   ],
   "source": [
    "df_rmse.to_csv('Result_rmse.csv',index=False)\n",
    "df_rmse.plot(x='Lambda',y='RMSE')"
   ]
  },
  {
   "cell_type": "markdown",
   "metadata": {},
   "source": [
    "## Below shows some more detailed/fundmental processing"
   ]
  },
  {
   "cell_type": "code",
   "execution_count": 22,
   "metadata": {},
   "outputs": [],
   "source": [
    "# Load data\n",
    "def ReadCSV(fileName):\n",
    "    with open(fileName, \"r\") as f:\n",
    "        headers = f.readline().strip(\"\\n\")\n",
    "        data = np.loadtxt(f, delimiter=\",\")\n",
    "    return headers, data\n",
    "head_train, data_raw = ReadCSV(\"train.csv\")\n",
    "\n",
    "# Shuffle data\n",
    "np.random.seed(0)\n",
    "np.random.shuffle(data_raw)\n",
    "\n",
    "# Normalize data\n",
    "#X_mean = np.mean(data_raw[:,2:], axis=0)\n",
    "#X_std = np.std(data_raw[:,2:], axis=0)\n",
    "#Y_mean = np.mean(data_raw[:,1])\n",
    "\n",
    "#X_norm = (data_raw[:,2:] - X_mean)/X_std\n",
    "#for y centered is enough\n",
    "#Y_norm = (data_raw[:,1] - Y_mean)\n",
    "\n",
    "# Without normalizing data\n",
    "X_norm = data_raw[:,2:]\n",
    "Y_norm = data_raw[:,1]\n",
    "\n",
    "# Add ones to X for constant weight\n",
    "X_norm = np.concatenate((np.ones(X_norm.shape[0]).reshape(X_norm.shape[0],1), X_norm), axis=1)"
   ]
  },
  {
   "cell_type": "code",
   "execution_count": 19,
   "metadata": {},
   "outputs": [
    {
     "name": "stdout",
     "output_type": "stream",
     "text": [
      "(11,) [  0  50 101 151 202 253 303 354 404 455 506]\n"
     ]
    }
   ],
   "source": [
    "# Divide data into k folds\n",
    "k = 10\n",
    "i_fd = np.linspace(0, X_norm.shape[0], k+1, endpoint=True, dtype=int)\n",
    "print(i_fd.shape, i_fd)"
   ]
  },
  {
   "cell_type": "code",
   "execution_count": 27,
   "metadata": {},
   "outputs": [
    {
     "name": "stdout",
     "output_type": "stream",
     "text": [
      "Lambda 0.01 rms= 4.804309893476328\n",
      "Lambda 0.1 rms= 4.8089611096738905\n",
      "Lambda 1.0 rms= 4.896244261643062\n",
      "Lambda 10.0 rms= 5.012461571506668\n",
      "Lambda 100.0 rms= 5.183807508457974\n"
     ]
    }
   ],
   "source": [
    "# Regularization parameter\n",
    "Lambda = np.array([0.01, 0.1, 1, 10, 100])\n",
    "\n",
    "rms = np.empty(Lambda.shape)\n",
    "\n",
    "for i in range(Lambda.shape[0]):\n",
    "    \n",
    "    rms_k = np.empty(k)\n",
    "    \n",
    "    # Cross validation of ridge regression\n",
    "    for j in range(k):\n",
    "        \n",
    "        # obtain training set from deleting test set\n",
    "        X_train = np.delete(X_norm, np.s_[i_fd[j]:i_fd[j+1]], 0)\n",
    "        Y_train = np.delete(Y_norm, np.s_[i_fd[j]:i_fd[j+1]], 0)\n",
    "        #obtain test set\n",
    "        X_test=X_norm[i_fd[j]:i_fd[j+1],:]\n",
    "        #y not normalized\n",
    "        y_test=Y_norm[i_fd[j]:i_fd[j+1]]\n",
    "        #y normalized\n",
    "        #y_test=Y_norm[i_fd[j]:i_fd[j+1]]\n",
    "        # ridge regression\n",
    "        #ridge = Ridge(alpha=Lambda[i])\n",
    "        ridge = Ridge(alpha=Lambda[i], fit_intercept=False)\n",
    "        ridge.fit(X_train, Y_train)\n",
    "        \n",
    "        ## calculate error on test set \n",
    "        ## for normalized data\n",
    "        #Y_test = Y_mean*np.ones(i_fd[j+1] - i_fd[j]) + Y_std*np.matmul(X_norm[i_fd[j]:i_fd[j+1],:], ridge.coef_)\n",
    "        #diff = data_raw[i_fd[j]:i_fd[j+1],1] - Y_test\n",
    "        ## for non-normalized data\n",
    "        ## coeff method\n",
    "        #diff = y_test - np.matmul(X_test, ridge.coef_)\n",
    "        \n",
    "        #rms_k[j] = sqrt(np.dot(diff, diff)/(i_fd[j+1] - i_fd[j]))\n",
    "        \n",
    "        #direct predict\n",
    "        y_predict=ridge.predict(X_test)\n",
    "        #y_predict=ridge.predict(X_test)\n",
    "        rms_k[j]=(mean_squared_error(y_test, y_predict)**0.5)\n",
    "        \n",
    "    \n",
    "    rms[i] = rms_k.mean()\n",
    "    print(\"Lambda\", Lambda[i], \"rms=\", rms[i])"
   ]
  },
  {
   "cell_type": "code",
   "execution_count": 5,
   "metadata": {},
   "outputs": [],
   "source": [
    "# Write data in CSV format\n",
    "#, fmt=\"%.12f\"\n",
    "np.savetxt(\"Result_rmse.csv\", rms)"
   ]
  }
 ],
 "metadata": {
  "kernelspec": {
   "display_name": "Python 3",
   "language": "python",
   "name": "python3"
  },
  "language_info": {
   "codemirror_mode": {
    "name": "ipython",
    "version": 3
   },
   "file_extension": ".py",
   "mimetype": "text/x-python",
   "name": "python",
   "nbconvert_exporter": "python",
   "pygments_lexer": "ipython3",
   "version": "3.7.7"
  },
  "toc": {
   "base_numbering": 1,
   "nav_menu": {},
   "number_sections": true,
   "sideBar": true,
   "skip_h1_title": false,
   "title_cell": "Table of Contents",
   "title_sidebar": "Contents",
   "toc_cell": false,
   "toc_position": {},
   "toc_section_display": true,
   "toc_window_display": false
  }
 },
 "nbformat": 4,
 "nbformat_minor": 4
}
